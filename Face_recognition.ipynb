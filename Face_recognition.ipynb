{
  "nbformat": 4,
  "nbformat_minor": 0,
  "metadata": {
    "colab": {
      "name": "Face-recognition.ipynb",
      "provenance": [],
      "collapsed_sections": []
    },
    "kernelspec": {
      "name": "python3",
      "display_name": "Python 3"
    },
    "language_info": {
      "name": "python"
    }
  },
  "cells": [
    {
      "cell_type": "code",
      "execution_count": null,
      "metadata": {
        "id": "9Q-FcS4vtJeN"
      },
      "outputs": [],
      "source": [
        "import numpy as np\n",
        "import pandas as pd\n",
        "import matplotlib.pyplot as plt\n",
        "import tensorflow as tf\n",
        "import glob\n",
        "import os\n",
        "import cv2\n",
        "from tensorflow import keras\n",
        "from tensorflow.keras.preprocessing.image import ImageDataGenerator\n",
        "from tensorflow.keras.layers import Dense, Activation,Dropout,Conv2D, MaxPooling2D,BatchNormalization,Flatten\n",
        "from tensorflow.keras.utils import to_categorical\n",
        "from tensorflow.keras.metrics import categorical_crossentropy\n",
        "from tensorflow.keras import Sequential\n",
        "from tensorflow.keras.callbacks import EarlyStopping\n",
        "from tensorflow.keras.optimizers import Adam\n",
        "from pathlib import Path\n",
        "from keras.utils import np_utils\n",
        "from keras.preprocessing import  image\n",
        "from keras.preprocessing.image import load_img, img_to_array,array_to_img,ImageDataGenerator"
      ]
    },
    {
      "cell_type": "code",
      "source": [
        "Food = ['Albert-Enstein','Bao-Lan','Faraday']\n",
        "dir_train = '/content/drive/MyDrive/Face-recognition' \n",
        "distpath = []\n",
        "X_train = []\n",
        "y_train = []\n",
        "X_test = []\n",
        "y_test = []"
      ],
      "metadata": {
        "id": "b8mHxSW6tRtH"
      },
      "execution_count": null,
      "outputs": []
    },
    {
      "cell_type": "code",
      "source": [
        "def create_data(dir, x_train, y_train):\n",
        "  for i in Food:\n",
        "    path = os.path.join(dir,i)\n",
        "    index_label = Food.index(i)\n",
        "    for j in os.listdir(path):\n",
        "      img_path = os.path.join(path, j)\n",
        "      img = image.load_img(img_path, target_size=(150,150)) \n",
        "      img = img_to_array(img)\n",
        "      img = img.reshape(150,150,3) \n",
        "      img = img.astype('float32')\n",
        "      img = img/255\n",
        "      X_train.append(img)\n",
        "      y_train.append(index_label)\n",
        "create_data(dir_train, X_train, y_train) "
      ],
      "metadata": {
        "id": "kRQ_eTnxzTPw"
      },
      "execution_count": null,
      "outputs": []
    },
    {
      "cell_type": "code",
      "source": [
        "X_train = np.array(X_train)\n",
        "y_train = np.array(y_train)\n",
        "y_train = np_utils.to_categorical(y_train, 10)\n",
        "print(X_train.shape) \n",
        "print(y_train.shape)"
      ],
      "metadata": {
        "colab": {
          "base_uri": "https://localhost:8080/"
        },
        "id": "ORCXzDDWzV9N",
        "outputId": "9e3bd736-c933-4b96-922c-1b521c0522f8"
      },
      "execution_count": null,
      "outputs": [
        {
          "output_type": "stream",
          "name": "stdout",
          "text": [
            "(30, 150, 150, 3)\n",
            "(30, 10)\n"
          ]
        }
      ]
    },
    {
      "cell_type": "code",
      "source": [
        "model = Sequential()\n",
        "model.add(Conv2D(filters=32,kernel_size=(27,48),activation='relu',kernel_initializer='he_uniform',padding='same',input_shape=(150,150,3),strides=(9,16)))\n",
        "model.add(MaxPooling2D(2,2))\n",
        "model.add(Conv2D(filters=64,kernel_size=(27,48), activation='relu',kernel_initializer='he_uniform',padding='same'))\n",
        "model.add(MaxPooling2D(2,2))\n",
        "model.add(Conv2D(filters=128,kernel_size=(27,48), activation='relu',kernel_initializer='he_uniform',padding='same'))\n",
        "model.add(MaxPooling2D(2,2))\n",
        "model.add(Flatten())\n",
        "model.add(Dense(512, activation='relu',input_shape=(67500,), name='layer1')) \n",
        "model.add(Dense(1028, activation='relu', name='layer2'))\n",
        "model.add(Dense(1028, activation='relu', name='layer3'))\n",
        "model.add(Dense(10, activation='softmax', name='layer4'))\n",
        "model.summary()"
      ],
      "metadata": {
        "id": "phCciiAQzYAh",
        "colab": {
          "base_uri": "https://localhost:8080/"
        },
        "outputId": "bf8faf59-8c07-4cfe-f27e-d0809cee2f7d"
      },
      "execution_count": null,
      "outputs": [
        {
          "output_type": "stream",
          "name": "stdout",
          "text": [
            "Model: \"sequential\"\n",
            "_________________________________________________________________\n",
            " Layer (type)                Output Shape              Param #   \n",
            "=================================================================\n",
            " conv2d (Conv2D)             (None, 17, 10, 32)        124448    \n",
            "                                                                 \n",
            " max_pooling2d (MaxPooling2D  (None, 8, 5, 32)         0         \n",
            " )                                                               \n",
            "                                                                 \n",
            " conv2d_1 (Conv2D)           (None, 8, 5, 64)          2654272   \n",
            "                                                                 \n",
            " max_pooling2d_1 (MaxPooling  (None, 4, 2, 64)         0         \n",
            " 2D)                                                             \n",
            "                                                                 \n",
            " conv2d_2 (Conv2D)           (None, 4, 2, 128)         10616960  \n",
            "                                                                 \n",
            " max_pooling2d_2 (MaxPooling  (None, 2, 1, 128)        0         \n",
            " 2D)                                                             \n",
            "                                                                 \n",
            " flatten (Flatten)           (None, 256)               0         \n",
            "                                                                 \n",
            " layer1 (Dense)              (None, 512)               131584    \n",
            "                                                                 \n",
            " layer2 (Dense)              (None, 1028)              527364    \n",
            "                                                                 \n",
            " layer3 (Dense)              (None, 1028)              1057812   \n",
            "                                                                 \n",
            " layer4 (Dense)              (None, 10)                10290     \n",
            "                                                                 \n",
            "=================================================================\n",
            "Total params: 15,122,730\n",
            "Trainable params: 15,122,730\n",
            "Non-trainable params: 0\n",
            "_________________________________________________________________\n"
          ]
        }
      ]
    },
    {
      "cell_type": "code",
      "source": [
        "model.compile(loss='categorical_crossentropy', optimizer=Adam(), metrics=['accuracy'])\n",
        "history = model.fit(X_train,y_train,epochs = 100, verbose=1,batch_size=40)"
      ],
      "metadata": {
        "colab": {
          "base_uri": "https://localhost:8080/"
        },
        "id": "ezLPpPoM0y2p",
        "outputId": "38f26630-33f5-4ce3-884e-ba75b924ae08"
      },
      "execution_count": null,
      "outputs": [
        {
          "output_type": "stream",
          "name": "stdout",
          "text": [
            "Epoch 1/100\n",
            "1/1 [==============================] - 3s 3s/step - loss: 2.3034 - accuracy: 0.0000e+00\n",
            "Epoch 2/100\n",
            "1/1 [==============================] - 2s 2s/step - loss: 1.9426 - accuracy: 0.3333\n",
            "Epoch 3/100\n",
            "1/1 [==============================] - 2s 2s/step - loss: 1.5934 - accuracy: 0.3333\n",
            "Epoch 4/100\n",
            "1/1 [==============================] - 2s 2s/step - loss: 1.8305 - accuracy: 0.3333\n",
            "Epoch 5/100\n",
            "1/1 [==============================] - 2s 2s/step - loss: 1.4965 - accuracy: 0.3333\n",
            "Epoch 6/100\n",
            "1/1 [==============================] - 2s 2s/step - loss: 1.6126 - accuracy: 0.3333\n",
            "Epoch 7/100\n",
            "1/1 [==============================] - 2s 2s/step - loss: 1.3963 - accuracy: 0.3333\n",
            "Epoch 8/100\n",
            "1/1 [==============================] - 2s 2s/step - loss: 1.1343 - accuracy: 0.3333\n",
            "Epoch 9/100\n",
            "1/1 [==============================] - 2s 2s/step - loss: 1.1782 - accuracy: 0.3333\n",
            "Epoch 10/100\n",
            "1/1 [==============================] - 2s 2s/step - loss: 1.0794 - accuracy: 0.3333\n",
            "Epoch 11/100\n",
            "1/1 [==============================] - 2s 2s/step - loss: 1.2914 - accuracy: 0.3333\n",
            "Epoch 12/100\n",
            "1/1 [==============================] - 2s 2s/step - loss: 1.4226 - accuracy: 0.3333\n",
            "Epoch 13/100\n",
            "1/1 [==============================] - 2s 2s/step - loss: 1.4534 - accuracy: 0.3333\n",
            "Epoch 14/100\n",
            "1/1 [==============================] - 2s 2s/step - loss: 1.1965 - accuracy: 0.3333\n",
            "Epoch 15/100\n",
            "1/1 [==============================] - 2s 2s/step - loss: 1.2325 - accuracy: 0.3333\n",
            "Epoch 16/100\n",
            "1/1 [==============================] - 2s 2s/step - loss: 1.1907 - accuracy: 0.3333\n",
            "Epoch 17/100\n",
            "1/1 [==============================] - 2s 2s/step - loss: 1.1793 - accuracy: 0.3333\n",
            "Epoch 18/100\n",
            "1/1 [==============================] - 2s 2s/step - loss: 1.2441 - accuracy: 0.3333\n",
            "Epoch 19/100\n",
            "1/1 [==============================] - 2s 2s/step - loss: 1.2690 - accuracy: 0.3333\n",
            "Epoch 20/100\n",
            "1/1 [==============================] - 2s 2s/step - loss: 1.2078 - accuracy: 0.3333\n",
            "Epoch 21/100\n",
            "1/1 [==============================] - 2s 2s/step - loss: 1.1406 - accuracy: 0.3333\n",
            "Epoch 22/100\n",
            "1/1 [==============================] - 2s 2s/step - loss: 1.1050 - accuracy: 0.3333\n",
            "Epoch 23/100\n",
            "1/1 [==============================] - 2s 2s/step - loss: 1.0855 - accuracy: 0.4333\n",
            "Epoch 24/100\n",
            "1/1 [==============================] - 2s 2s/step - loss: 1.0850 - accuracy: 0.3333\n",
            "Epoch 25/100\n",
            "1/1 [==============================] - 2s 2s/step - loss: 1.0883 - accuracy: 0.3333\n",
            "Epoch 26/100\n",
            "1/1 [==============================] - 2s 2s/step - loss: 1.0600 - accuracy: 0.3333\n",
            "Epoch 27/100\n",
            "1/1 [==============================] - 2s 2s/step - loss: 1.0337 - accuracy: 0.6667\n",
            "Epoch 28/100\n",
            "1/1 [==============================] - 2s 2s/step - loss: 1.0423 - accuracy: 0.3000\n",
            "Epoch 29/100\n",
            "1/1 [==============================] - 2s 2s/step - loss: 0.9807 - accuracy: 0.5333\n",
            "Epoch 30/100\n",
            "1/1 [==============================] - 2s 2s/step - loss: 0.9320 - accuracy: 0.5333\n",
            "Epoch 31/100\n",
            "1/1 [==============================] - 2s 2s/step - loss: 0.8688 - accuracy: 0.6333\n",
            "Epoch 32/100\n",
            "1/1 [==============================] - 2s 2s/step - loss: 0.8342 - accuracy: 0.6333\n",
            "Epoch 33/100\n",
            "1/1 [==============================] - 2s 2s/step - loss: 0.9552 - accuracy: 0.6667\n",
            "Epoch 34/100\n",
            "1/1 [==============================] - 2s 2s/step - loss: 0.6402 - accuracy: 0.8000\n",
            "Epoch 35/100\n",
            "1/1 [==============================] - 2s 2s/step - loss: 0.9261 - accuracy: 0.6333\n",
            "Epoch 36/100\n",
            "1/1 [==============================] - 2s 2s/step - loss: 0.6569 - accuracy: 0.6667\n",
            "Epoch 37/100\n",
            "1/1 [==============================] - 2s 2s/step - loss: 0.7622 - accuracy: 0.6333\n",
            "Epoch 38/100\n",
            "1/1 [==============================] - 2s 2s/step - loss: 0.5776 - accuracy: 0.9333\n",
            "Epoch 39/100\n",
            "1/1 [==============================] - 2s 2s/step - loss: 0.5082 - accuracy: 0.8667\n",
            "Epoch 40/100\n",
            "1/1 [==============================] - 2s 2s/step - loss: 0.5206 - accuracy: 0.7667\n",
            "Epoch 41/100\n",
            "1/1 [==============================] - 2s 2s/step - loss: 0.4489 - accuracy: 0.8000\n",
            "Epoch 42/100\n",
            "1/1 [==============================] - 2s 2s/step - loss: 0.4427 - accuracy: 0.8333\n",
            "Epoch 43/100\n",
            "1/1 [==============================] - 2s 2s/step - loss: 0.3124 - accuracy: 0.9333\n",
            "Epoch 44/100\n",
            "1/1 [==============================] - 2s 2s/step - loss: 0.2731 - accuracy: 0.9667\n",
            "Epoch 45/100\n",
            "1/1 [==============================] - 2s 2s/step - loss: 0.2799 - accuracy: 0.9000\n",
            "Epoch 46/100\n",
            "1/1 [==============================] - 2s 2s/step - loss: 0.1845 - accuracy: 0.9667\n",
            "Epoch 47/100\n",
            "1/1 [==============================] - 2s 2s/step - loss: 0.1963 - accuracy: 0.9667\n",
            "Epoch 48/100\n",
            "1/1 [==============================] - 2s 2s/step - loss: 0.1531 - accuracy: 0.9667\n",
            "Epoch 49/100\n",
            "1/1 [==============================] - 2s 2s/step - loss: 0.1472 - accuracy: 0.9667\n",
            "Epoch 50/100\n",
            "1/1 [==============================] - 2s 2s/step - loss: 0.1254 - accuracy: 0.9667\n",
            "Epoch 51/100\n",
            "1/1 [==============================] - 2s 2s/step - loss: 0.0921 - accuracy: 0.9667\n",
            "Epoch 52/100\n",
            "1/1 [==============================] - 2s 2s/step - loss: 0.0737 - accuracy: 0.9667\n",
            "Epoch 53/100\n",
            "1/1 [==============================] - 2s 2s/step - loss: 0.0789 - accuracy: 1.0000\n",
            "Epoch 54/100\n",
            "1/1 [==============================] - 2s 2s/step - loss: 0.0497 - accuracy: 0.9667\n",
            "Epoch 55/100\n",
            "1/1 [==============================] - 2s 2s/step - loss: 0.0551 - accuracy: 0.9667\n",
            "Epoch 56/100\n",
            "1/1 [==============================] - 2s 2s/step - loss: 0.0215 - accuracy: 1.0000\n",
            "Epoch 57/100\n",
            "1/1 [==============================] - 2s 2s/step - loss: 0.0324 - accuracy: 1.0000\n",
            "Epoch 58/100\n",
            "1/1 [==============================] - 2s 2s/step - loss: 0.0098 - accuracy: 1.0000\n",
            "Epoch 59/100\n",
            "1/1 [==============================] - 2s 2s/step - loss: 0.0223 - accuracy: 1.0000\n",
            "Epoch 60/100\n",
            "1/1 [==============================] - 2s 2s/step - loss: 0.0054 - accuracy: 1.0000\n",
            "Epoch 61/100\n",
            "1/1 [==============================] - 2s 2s/step - loss: 0.0068 - accuracy: 1.0000\n",
            "Epoch 62/100\n",
            "1/1 [==============================] - 2s 2s/step - loss: 0.0068 - accuracy: 1.0000\n",
            "Epoch 63/100\n",
            "1/1 [==============================] - 2s 2s/step - loss: 0.0040 - accuracy: 1.0000\n",
            "Epoch 64/100\n",
            "1/1 [==============================] - 2s 2s/step - loss: 0.0051 - accuracy: 1.0000\n",
            "Epoch 65/100\n",
            "1/1 [==============================] - 2s 2s/step - loss: 0.0020 - accuracy: 1.0000\n",
            "Epoch 66/100\n",
            "1/1 [==============================] - 2s 2s/step - loss: 8.4508e-04 - accuracy: 1.0000\n",
            "Epoch 67/100\n",
            "1/1 [==============================] - 2s 2s/step - loss: 9.7260e-04 - accuracy: 1.0000\n",
            "Epoch 68/100\n",
            "1/1 [==============================] - 2s 2s/step - loss: 9.9624e-04 - accuracy: 1.0000\n",
            "Epoch 69/100\n",
            "1/1 [==============================] - 2s 2s/step - loss: 5.5436e-04 - accuracy: 1.0000\n",
            "Epoch 70/100\n",
            "1/1 [==============================] - 2s 2s/step - loss: 2.3956e-04 - accuracy: 1.0000\n",
            "Epoch 71/100\n",
            "1/1 [==============================] - 2s 2s/step - loss: 1.4647e-04 - accuracy: 1.0000\n",
            "Epoch 72/100\n",
            "1/1 [==============================] - 2s 2s/step - loss: 1.8210e-04 - accuracy: 1.0000\n",
            "Epoch 73/100\n",
            "1/1 [==============================] - 2s 2s/step - loss: 3.0765e-04 - accuracy: 1.0000\n",
            "Epoch 74/100\n",
            "1/1 [==============================] - 2s 2s/step - loss: 3.4174e-04 - accuracy: 1.0000\n",
            "Epoch 75/100\n",
            "1/1 [==============================] - 2s 2s/step - loss: 2.0163e-04 - accuracy: 1.0000\n",
            "Epoch 76/100\n",
            "1/1 [==============================] - 2s 2s/step - loss: 8.8453e-05 - accuracy: 1.0000\n",
            "Epoch 77/100\n",
            "1/1 [==============================] - 2s 2s/step - loss: 4.1429e-05 - accuracy: 1.0000\n",
            "Epoch 78/100\n",
            "1/1 [==============================] - 2s 2s/step - loss: 2.5088e-05 - accuracy: 1.0000\n",
            "Epoch 79/100\n",
            "1/1 [==============================] - 2s 2s/step - loss: 2.0616e-05 - accuracy: 1.0000\n",
            "Epoch 80/100\n",
            "1/1 [==============================] - 2s 2s/step - loss: 2.0317e-05 - accuracy: 1.0000\n",
            "Epoch 81/100\n",
            "1/1 [==============================] - 2s 2s/step - loss: 2.1707e-05 - accuracy: 1.0000\n",
            "Epoch 82/100\n",
            "1/1 [==============================] - 2s 2s/step - loss: 2.4082e-05 - accuracy: 1.0000\n",
            "Epoch 83/100\n",
            "1/1 [==============================] - 2s 2s/step - loss: 2.6329e-05 - accuracy: 1.0000\n",
            "Epoch 84/100\n",
            "1/1 [==============================] - 2s 2s/step - loss: 2.7767e-05 - accuracy: 1.0000\n",
            "Epoch 85/100\n",
            "1/1 [==============================] - 2s 2s/step - loss: 2.8215e-05 - accuracy: 1.0000\n",
            "Epoch 86/100\n",
            "1/1 [==============================] - 2s 2s/step - loss: 2.7429e-05 - accuracy: 1.0000\n",
            "Epoch 87/100\n",
            "1/1 [==============================] - 2s 2s/step - loss: 2.5515e-05 - accuracy: 1.0000\n",
            "Epoch 88/100\n",
            "1/1 [==============================] - 2s 2s/step - loss: 2.2763e-05 - accuracy: 1.0000\n",
            "Epoch 89/100\n",
            "1/1 [==============================] - 2s 2s/step - loss: 1.9653e-05 - accuracy: 1.0000\n",
            "Epoch 90/100\n",
            "1/1 [==============================] - 2s 2s/step - loss: 1.6615e-05 - accuracy: 1.0000\n",
            "Epoch 91/100\n",
            "1/1 [==============================] - 2s 2s/step - loss: 1.3854e-05 - accuracy: 1.0000\n",
            "Epoch 92/100\n",
            "1/1 [==============================] - 2s 2s/step - loss: 1.1502e-05 - accuracy: 1.0000\n",
            "Epoch 93/100\n",
            "1/1 [==============================] - 2s 2s/step - loss: 9.5636e-06 - accuracy: 1.0000\n",
            "Epoch 94/100\n",
            "1/1 [==============================] - 2s 2s/step - loss: 8.0102e-06 - accuracy: 1.0000\n",
            "Epoch 95/100\n",
            "1/1 [==============================] - 2s 2s/step - loss: 6.7707e-06 - accuracy: 1.0000\n",
            "Epoch 96/100\n",
            "1/1 [==============================] - 2s 2s/step - loss: 5.7973e-06 - accuracy: 1.0000\n",
            "Epoch 97/100\n",
            "1/1 [==============================] - 2s 2s/step - loss: 5.0265e-06 - accuracy: 1.0000\n",
            "Epoch 98/100\n",
            "1/1 [==============================] - 2s 2s/step - loss: 4.3987e-06 - accuracy: 1.0000\n",
            "Epoch 99/100\n",
            "1/1 [==============================] - 2s 2s/step - loss: 3.9219e-06 - accuracy: 1.0000\n",
            "Epoch 100/100\n",
            "1/1 [==============================] - 2s 2s/step - loss: 3.5404e-06 - accuracy: 1.0000\n"
          ]
        }
      ]
    },
    {
      "cell_type": "code",
      "source": [
        "model.save('Face-recognition.h5')"
      ],
      "metadata": {
        "id": "FCV4Fmgw04mI"
      },
      "execution_count": null,
      "outputs": []
    },
    {
      "cell_type": "code",
      "source": [
        "import matplotlib.pyplot as plt\n",
        "plt.plot(history.history['accuracy'])\n",
        "plt.plot(history.history['loss'])\n",
        "plt.title('model accuracy')\n",
        "plt.ylabel('accuracy')\n",
        "plt.xlabel('epochs')\n",
        "plt.legend(['train','Validation'])\n",
        "plt.show()"
      ],
      "metadata": {
        "colab": {
          "base_uri": "https://localhost:8080/",
          "height": 295
        },
        "id": "RGMVggY-07zB",
        "outputId": "13710879-bb87-4bbc-e107-db8a914e4d52"
      },
      "execution_count": null,
      "outputs": [
        {
          "output_type": "display_data",
          "data": {
            "text/plain": [
              "<Figure size 432x288 with 1 Axes>"
            ],
            "image/png": "[encoded data removed]"
          },
          "metadata": {
            "needs_background": "light"
          }
        }
      ]
    },
    {
      "cell_type": "code",
      "source": [
        "filename = '/content/drive/MyDrive/Face-recognition/Albert-EnsteinTest.jpg'  \n",
        "face = image.load_img(filename, target_size=(150,150))\n",
        "plt.imshow(face)\n",
        "face = img_to_array(face)\n",
        "face = face.reshape(1,150,150,3) \n",
        "face = face.astype('float32')\n",
        "face = face/255\n",
        "np.argmax(model.predict(face), axis=1)\n",
        "\n",
        "if np.argmax(model.predict(face)) == 0:\n",
        "   print(\"Albert_Enstein\")\n",
        "if np.argmax(model.predict(face)) == 1:\n",
        "   print(\"Bảo_Lân\")\n",
        "if np.argmax(model.predict(face)) == 2:\n",
        "   print(\"Michael_Faraday\")"
      ],
      "metadata": {
        "id": "cNXSfvWP4YoU",
        "colab": {
          "base_uri": "https://localhost:8080/",
          "height": 286
        },
        "outputId": "eeb27d8d-b91a-43ea-d6dc-505ba9c8f082"
      },
      "execution_count": null,
      "outputs": [
        {
          "output_type": "stream",
          "name": "stdout",
          "text": [
            "Albert_Enstein\n"
          ]
        },
        {
          "output_type": "display_data",
          "data": {
            "text/plain": [
              "<Figure size 432x288 with 1 Axes>"
            ],
            "image/png": "[encoded data removed]"
          },
          "metadata": {
            "needs_background": "light"
          }
        }
      ]
    },
    {
      "cell_type": "code",
      "source": [
        ""
      ],
      "metadata": {
        "id": "kNzxzWBgrHt8"
      },
      "execution_count": null,
      "outputs": []
    }
  ]
}